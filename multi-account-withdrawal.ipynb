{
 "cells": [
  {
   "cell_type": "code",
   "execution_count": null,
   "metadata": {},
   "outputs": [],
   "source": [
    "#pip install python-okx\n",
    "# account1\n",
    "# apikey = \"xxx\"\n",
    "# secretkey = \"xxx\"\n",
    "# passphrase = \"xxx\"\n",
    "# account2\n",
    "# ...\n"
   ]
  },
  {
   "cell_type": "code",
   "execution_count": null,
   "metadata": {},
   "outputs": [],
   "source": [
    "class acnt_info:\n",
    "    def __init__(self, no):\n",
    "        self.no = no\n",
    "        if self.no == 1:\n",
    "            self.api_key = \"xxx\"\n",
    "            self.secret_key = \"xxx\"\n",
    "            self.passphrase = \"xxx\" \n",
    "        elif self.no == 2:\n",
    "            self.api_key = \"xxx\"\n",
    "            self.secret_key = \"xxx\"\n",
    "            self.passphrase = 'xxx'\n",
    "        #elif self.no == 3:\n",
    "        "
   ]
  },
  {
   "cell_type": "code",
   "execution_count": null,
   "metadata": {},
   "outputs": [],
   "source": [
    "import okx.Funding as Funding\n",
    "ccy = 'TUSD' \n",
    "#提什么币选什么\n",
    "\n",
    "def withdraw_to_main(ccy, no):\n",
    "    \n",
    "    fundingAPI = Funding.FundingAPI(acnt_info(no).api_key, acnt_info(no).secret_key, acnt_info(no).passphrase, False, flag = \"0\")\n",
    "    result = fundingAPI.get_balances(ccy)\n",
    "    amt = result['data'][0]['availBal']\n",
    "    dest = \"3\"\n",
    "    toAddr = '目标账户的邮箱'\n",
    "    \n",
    "    return fundingAPI.withdrawal(ccy, amt, dest, toAddr, fee=0 ,chain = '', clientId = '')"
   ]
  },
  {
   "cell_type": "code",
   "execution_count": null,
   "metadata": {},
   "outputs": [],
   "source": [
    "for no in range(1, 3):\n",
    "    withdraw_to_main(ccy, no)"
   ]
  }
 ],
 "metadata": {
  "kernelspec": {
   "display_name": "base",
   "language": "python",
   "name": "python3"
  },
  "language_info": {
   "codemirror_mode": {
    "name": "ipython",
    "version": 3
   },
   "file_extension": ".py",
   "mimetype": "text/x-python",
   "name": "python",
   "nbconvert_exporter": "python",
   "pygments_lexer": "ipython3",
   "version": "3.10.9"
  },
  "orig_nbformat": 4
 },
 "nbformat": 4,
 "nbformat_minor": 2
}
